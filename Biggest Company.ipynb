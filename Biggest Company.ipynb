{
 "cells": [
  {
   "cell_type": "code",
   "execution_count": 2,
   "id": "f73071cc-8f0e-475c-b2fc-60ddbd7edc56",
   "metadata": {},
   "outputs": [],
   "source": [
    "from bs4 import BeautifulSoup\n",
    "import requests\n",
    "import pandas as pd\n"
   ]
  },
  {
   "cell_type": "code",
   "execution_count": 3,
   "id": "c4eb8605-9c63-4c30-8635-30be55c7d475",
   "metadata": {},
   "outputs": [],
   "source": [
    "# connenting to the website\n",
    "url = 'https://www.tradingview.com/markets/stocks-nigeria/market-movers-highest-net-income/'"
   ]
  },
  {
   "cell_type": "code",
   "execution_count": 4,
   "id": "503e2537-0d8b-4133-82fd-805528e37d44",
   "metadata": {},
   "outputs": [],
   "source": [
    "page = requests.get(url)"
   ]
  },
  {
   "cell_type": "code",
   "execution_count": 5,
   "id": "99e2d468-b313-42ec-8400-c2004b16f6af",
   "metadata": {},
   "outputs": [],
   "source": [
    "# pulling the html contents of the page\n",
    "soup = BeautifulSoup(page.text, 'html.parser')"
   ]
  },
  {
   "cell_type": "code",
   "execution_count": 6,
   "id": "fb0e303e-0915-4c19-ac68-fb65f5254bfc",
   "metadata": {},
   "outputs": [],
   "source": [
    "# locating the table\n",
    "table = soup.find('table')"
   ]
  },
  {
   "cell_type": "code",
   "execution_count": 8,
   "id": "74f7736e-acab-462e-b80e-ec7c5ad4c50e",
   "metadata": {},
   "outputs": [
    {
     "data": {
      "text/plain": [
       "['Symbol',\n",
       " 'Net incomeFY',\n",
       " 'Price',\n",
       " 'Change %',\n",
       " 'Volume',\n",
       " 'Rel Volume',\n",
       " 'Market cap',\n",
       " 'P/E',\n",
       " 'EPS dilTTM',\n",
       " 'EPS dil growthTTM YoY',\n",
       " 'Div yield %TTM',\n",
       " 'Sector',\n",
       " 'Analyst Rating']"
      ]
     },
     "execution_count": 8,
     "metadata": {},
     "output_type": "execute_result"
    }
   ],
   "source": [
    "# table headers\n",
    "titles = table.find_all('th')\n",
    "# getting the text format\n",
    "Header = [title.text.strip() for title in titles]\n",
    "Header"
   ]
  },
  {
   "cell_type": "code",
   "execution_count": 11,
   "id": "6faff1f4-8723-4fa0-9631-c12526e76a07",
   "metadata": {},
   "outputs": [],
   "source": [
    "# creating a dataframe to store the headers\n",
    "df =  pd.DataFrame(columns=Header)"
   ]
  },
  {
   "cell_type": "code",
   "execution_count": 9,
   "id": "955caa2f-8fcc-4455-80f8-b9737edf0bd7",
   "metadata": {},
   "outputs": [],
   "source": [
    "# table rows\n",
    "column_data = table.find_all('tr')"
   ]
  },
  {
   "cell_type": "code",
   "execution_count": 12,
   "id": "d117439d-b274-4010-a3b3-588b3a5d8b91",
   "metadata": {},
   "outputs": [],
   "source": [
    "# gets all the cells data\n",
    "for row in column_data[1:]:\n",
    "    row_data = row.find_all('td')\n",
    "    rows = [data.text.strip() for data in row_data]\n",
    "    # adding individual data to a data frame\n",
    "    lenght = len(df)\n",
    "    df.loc[lenght] = rows"
   ]
  },
  {
   "cell_type": "code",
   "execution_count": 14,
   "id": "64276a5a-ebd8-4561-a7b8-a63ff6583058",
   "metadata": {},
   "outputs": [],
   "source": [
    "# exporting to a csv \n",
    "df.to_csv(r\"C:\\Users\\Apex PC\\Downloads\\Biggest Nigerian Companies Scrape\\Biggest Company Uncleaned.csv\")"
   ]
  },
  {
   "cell_type": "code",
   "execution_count": 38,
   "id": "5d0b8b4e-1c22-4209-a4fd-324442961313",
   "metadata": {},
   "outputs": [],
   "source": []
  }
 ],
 "metadata": {
  "kernelspec": {
   "display_name": "Python 3 (ipykernel)",
   "language": "python",
   "name": "python3"
  },
  "language_info": {
   "codemirror_mode": {
    "name": "ipython",
    "version": 3
   },
   "file_extension": ".py",
   "mimetype": "text/x-python",
   "name": "python",
   "nbconvert_exporter": "python",
   "pygments_lexer": "ipython3",
   "version": "3.9.12"
  }
 },
 "nbformat": 4,
 "nbformat_minor": 5
}
